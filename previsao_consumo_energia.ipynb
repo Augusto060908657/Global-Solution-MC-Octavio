# Previsão de Consumo de Energia Elétrica Residencial com LSTM

## 1. Importação das Bibliotecas Necessárias
```python
import pandas as pd
import numpy as np
from sklearn.preprocessing import MinMaxScaler
from sklearn.metrics import mean_squared_error
from tensorflow.keras.models import Sequential
from tensorflow.keras.layers import LSTM, Dropout, Dense
import matplotlib.pyplot as plt


### 2. Carregamento e Pré-processamento dos Dados
Neste passo, vamos carregar o arquivo CSV contendo os dados de consumo de energia elétrica e filtrar para considerar apenas o consumo residencial. Em seguida, agregaremos os dados por estado e ano/mês.

```python
# Carregar o arquivo CSV
file_path = '/mnt/data/br_mme_consumo_energia_eletrica_uf.csv.gz'
data = pd.read_csv(file_path, compression='gzip')

# Filtrar apenas consumo residencial
data_residencial = data[data['tipo_consumo'] == 'Residencial']

# Agregar por estado (consumo total e número de consumidores)
aggregated_data = data_residencial.groupby(['uf', 'ano_mes']).agg(
    consumo_total=('consumo_kwh', 'sum'),
    num_consumidores=('consumidores', 'sum')
).reset_index()

# Ordenar por data
aggregated_data['ano_mes'] = pd.to_datetime(aggregated_data['ano_mes'], format='%Y-%m')
aggregated_data = aggregated_data.sort_values('ano_mes')


### 3. Pré-processamento dos Dados
Aqui, vamos focar apenas no consumo total para análise de séries temporais. Também normalizaremos os dados no intervalo de [0, 1] para facilitar o treinamento do modelo LSTM.

```python
# Foco no consumo total para análise de séries temporais
series_data = aggregated_data.groupby('ano_mes')['consumo_total'].sum().values

# Normalizar os dados no intervalo [0, 1]
scaler = MinMaxScaler(feature_range=(0, 1))
series_data_scaled = scaler.fit_transform(series_data.reshape(-1, 1))

# Construir sequências temporais (12 meses anteriores para prever o próximo valor)
def create_sequences(data, seq_length=12):
    X, y = [], []
    for i in range(seq_length, len(data)):
        X.append(data[i-seq_length:i, 0])
        y.append(data[i, 0])
    return np.array(X), np.array(y)

X, y = create_sequences(series_data_scaled)


### 4. Construção e Treinamento do Modelo LSTM
Utilizamos uma rede neural recorrente LSTM para prever o consumo de energia, já que essa técnica é eficaz para lidar com séries temporais.

```python
# Divisão em conjunto de treino e teste (80% treino, 20% teste)
train_size = int(len(X) * 0.8)
X_train, X_test = X[:train_size], X[train_size:]
y_train, y_test = y[:train_size], y[train_size:]

# Redimensionar os dados para formato LSTM [samples, time steps, features]
X_train = X_train.reshape(X_train.shape[0], X_train.shape[1], 1)
X_test = X_test.reshape(X_test.shape[0], X_test.shape[1], 1)

# Construir o modelo LSTM
model = Sequential([
    LSTM(50, activation='relu', return_sequences=False, input_shape=(X_train.shape[1], 1)),
    Dropout(0.2),
    Dense(1, activation='linear')
])

# Compilar o modelo
model.compile(optimizer='adam', loss='mean_squared_error')

# Treinamento do modelo
history = model.fit(
    X_train, y_train, 
    epochs=50, 
    batch_size=32, 
    validation_split=0.1, 
    verbose=1
)


### 5. Avaliação do Modelo
Avaliaremos a precisão do modelo utilizando o erro quadrático médio (MSE) e a raiz do erro quadrático médio (RMSE).

```python
# Avaliação do modelo no conjunto de teste
y_pred = model.predict(X_test)
y_test_original = scaler.inverse_transform(y_test.reshape(-1, 1))
y_pred_original = scaler.inverse_transform(y_pred)

# Cálculo do MSE e RMSE
mse = mean_squared_error(y_test_original, y_pred_original)
rmse = np.sqrt(mse)
print(f"Mean Squared Error (MSE): {mse:.2f}")
print(f"Root Mean Squared Error (RMSE): {rmse:.2f}")


#### Gráfico de Comparação: Valores Reais vs Previstos
A seguir, mostramos um gráfico comparando os valores reais e as previsões feitas pelo modelo.

```python
# Gráfico comparando valores reais e preditos
plt.figure(figsize=(14, 7))
plt.plot(y_test_original, label="Valores Reais", color="blue")
plt.plot(y_pred_original, label="Previsões", color="red", linestyle="--")
plt.title("Comparação de Valores Reais e Previstos")
plt.xlabel("Período")
plt.ylabel("Consumo Total (kWh)")
plt.legend()
plt.show()


### 6. Previsão para os Próximos 12 Meses
Utilizando o modelo treinado, vamos gerar previsões para os próximos 12 meses.

```python
# Previsão para os próximos 12 meses
last_sequence = series_data_scaled[-12:].reshape(1, -1, 1)
future_predictions = []
for _ in range(12):
    pred = model.predict(last_sequence)
    future_predictions.append(pred[0, 0])
    last_sequence = np.append(last_sequence[:, 1:, :], [[pred]], axis=1)

# Reverter normalização das previsões
future_predictions_original = scaler.inverse_transform(np.array(future_predictions).reshape(-1, 1))

# Gráfico das previsões futuras
plt.figure(figsize=(14, 7))
plt.plot(range(len(series_data_scaled)), scaler.inverse_transform(series_data_scaled), label="Histórico")
plt.plot(range(len(series_data_scaled), len(series_data_scaled) + 12), future_predictions_original, label="Previsões Futuras", color="green")
plt.title("Previsão de Consumo para os Próximos 12 Meses")
plt.xlabel("Período")
plt.ylabel("Consumo Total (kWh)")
plt.legend()
plt.show()
